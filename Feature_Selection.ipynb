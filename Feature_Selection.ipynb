{
  "nbformat": 4,
  "nbformat_minor": 0,
  "metadata": {
    "colab": {
      "provenance": []
    },
    "kernelspec": {
      "name": "python3",
      "display_name": "Python 3"
    },
    "language_info": {
      "name": "python"
    }
  },
  "cells": [
    {
      "cell_type": "code",
      "execution_count": 28,
      "metadata": {
        "id": "RYLwII17c3gX"
      },
      "outputs": [],
      "source": [
        "!pip install gdown==4.6.0 -q\n",
        "\n",
        "import pandas as pd\n",
        "import numpy as np\n",
        "import matplotlib.pyplot as plt\n",
        "\n",
        "from sklearn.metrics import f1_score\n",
        "from sklearn.linear_model import LogisticRegression\n",
        "from sklearn.model_selection import train_test_split\n",
        "from sklearn.preprocessing import MinMaxScaler\n",
        "from sklearn.ensemble import GradientBoostingClassifier\n",
        "from sklearn.feature_selection import mutual_info_classif, RFE, SelectKBest, f_classif"
      ]
    },
    {
      "cell_type": "code",
      "source": [
        "!gdown 168PiAwrnNMaWwjxk8kqUCjNoTZ6kpFgU"
      ],
      "metadata": {
        "colab": {
          "base_uri": "https://localhost:8080/"
        },
        "id": "C3iQjcOsDKFX",
        "outputId": "711b89ae-c3a2-4a33-be60-82280ad892d9"
      },
      "execution_count": 3,
      "outputs": [
        {
          "output_type": "stream",
          "name": "stdout",
          "text": [
            "Downloading...\n",
            "From: https://drive.google.com/uc?id=168PiAwrnNMaWwjxk8kqUCjNoTZ6kpFgU\n",
            "To: /content/features_table.csv\n",
            "\r  0% 0.00/6.63M [00:00<?, ?B/s]\r 87% 5.77M/6.63M [00:00<00:00, 57.1MB/s]\r100% 6.63M/6.63M [00:00<00:00, 54.1MB/s]\n"
          ]
        }
      ]
    },
    {
      "cell_type": "code",
      "source": [
        "data = pd.read_csv('features_table.csv', encoding = 'utf-8')"
      ],
      "metadata": {
        "id": "JujYHwPoEvQ1"
      },
      "execution_count": 4,
      "outputs": []
    },
    {
      "cell_type": "code",
      "source": [
        "def count_digits_in_column(df, column_name):\n",
        "    # Calculate the number of digits in each row and create a new column\n",
        "    df['digit_count'] = df[column_name].apply(lambda x: sum(c.isdigit() for c in x))\n",
        "    return df\n",
        "\n",
        "data = count_digits_in_column(data, 'review_text')"
      ],
      "metadata": {
        "id": "mYcLDU_tE9X8"
      },
      "execution_count": 5,
      "outputs": []
    },
    {
      "cell_type": "code",
      "source": [
        "original_features = data.columns\n",
        "print(original_features, len(original_features))\n",
        "\n",
        "data.head(5)"
      ],
      "metadata": {
        "id": "AeiIIKVpFPXa",
        "colab": {
          "base_uri": "https://localhost:8080/",
          "height": 680
        },
        "outputId": "26b3e5fe-1dc2-4468-e633-e5255868678b"
      },
      "execution_count": 6,
      "outputs": [
        {
          "output_type": "stream",
          "name": "stdout",
          "text": [
            "Index(['ID', 'label', 'pos_neg', 'review_text', 'sentences', 'label_str',\n",
            "       'text_length', 'num_sentences', 'flesch_readability_score',\n",
            "       'content_word_count', 'function_word_count', 'verb_count', 'noun_count',\n",
            "       'adjective_count', 'tokenized_text', 'filtered_text',\n",
            "       'filtered_text_list', 'lemmatized_text', 'neg', 'neu', 'pos',\n",
            "       'compound', 'punctuation_count', 'cap_count', 'ner_count',\n",
            "       'digit_count'],\n",
            "      dtype='object') 26\n"
          ]
        },
        {
          "output_type": "execute_result",
          "data": {
            "text/plain": [
              "            ID  label pos_neg  \\\n",
              "0  sheraton_14      1     pos   \n",
              "1   talbott_13      0     pos   \n",
              "2   sheraton_2      0     neg   \n",
              "3    palmer_10      1     neg   \n",
              "4     james_17      1     pos   \n",
              "\n",
              "                                         review_text  sentences  label_str  \\\n",
              "0  The sheraton was a wonderful hotel! When me an...          7   Truthful   \n",
              "1  My husband and I decided to plan a romantic ge...          7  Deceptive   \n",
              "2  The Sheraton Chicago Hotel and Towers is not t...         10  Deceptive   \n",
              "3  First of all, Expedia.com charged me for an ad...         11   Truthful   \n",
              "4  took a weekend trip with my wife. got a great ...          5   Truthful   \n",
              "\n",
              "   text_length  num_sentences  flesch_readability_score  content_word_count  \\\n",
              "0          385              6                     77.23                  41   \n",
              "1          655              8                     71.75                  63   \n",
              "2          874             11                     64.71                  87   \n",
              "3          992              9                     71.65                  97   \n",
              "4          290              6                     86.30                  35   \n",
              "\n",
              "   ...                                 filtered_text_list  \\\n",
              "0  ...  ['sheraton', 'wonderful', 'hotel', '!', 'mom',...   \n",
              "1  ...  ['husband', 'decided', 'plan', 'romantic', 'ge...   \n",
              "2  ...  ['Sheraton', 'Chicago', 'Hotel', 'Towers', 'ho...   \n",
              "3  ...  ['First', ',', 'Expedia.com', 'charged', 'addi...   \n",
              "4  ...  ['took', 'weekend', 'trip', 'wife', '.', 'got'...   \n",
              "\n",
              "                                     lemmatized_text    neg    neu    pos  \\\n",
              "0  sheraton wonderful hotel ! mom flew really tir...  0.096  0.735  0.169   \n",
              "1  husband decided plan romantic get-away one yea...  0.000  0.844  0.156   \n",
              "2  Sheraton Chicago Hotel Towers hotel person wis...  0.000  0.840  0.160   \n",
              "3  First , Expedia.com charged additional person ...  0.050  0.811  0.139   \n",
              "4  took weekend trip wife . got great rate valet ...  0.080  0.728  0.191   \n",
              "\n",
              "  compound punctuation_count cap_count  ner_count  digit_count  \n",
              "0   0.8217                 7         7          1            0  \n",
              "1   0.9565                11        18          5            0  \n",
              "2   0.9694                11        14          2            0  \n",
              "3   0.9760                18        18          8            2  \n",
              "4   0.6757                 9         0          2            0  \n",
              "\n",
              "[5 rows x 26 columns]"
            ],
            "text/html": [
              "\n",
              "  <div id=\"df-7eb44c16-360f-4732-a919-a15a08b5f1de\" class=\"colab-df-container\">\n",
              "    <div>\n",
              "<style scoped>\n",
              "    .dataframe tbody tr th:only-of-type {\n",
              "        vertical-align: middle;\n",
              "    }\n",
              "\n",
              "    .dataframe tbody tr th {\n",
              "        vertical-align: top;\n",
              "    }\n",
              "\n",
              "    .dataframe thead th {\n",
              "        text-align: right;\n",
              "    }\n",
              "</style>\n",
              "<table border=\"1\" class=\"dataframe\">\n",
              "  <thead>\n",
              "    <tr style=\"text-align: right;\">\n",
              "      <th></th>\n",
              "      <th>ID</th>\n",
              "      <th>label</th>\n",
              "      <th>pos_neg</th>\n",
              "      <th>review_text</th>\n",
              "      <th>sentences</th>\n",
              "      <th>label_str</th>\n",
              "      <th>text_length</th>\n",
              "      <th>num_sentences</th>\n",
              "      <th>flesch_readability_score</th>\n",
              "      <th>content_word_count</th>\n",
              "      <th>...</th>\n",
              "      <th>filtered_text_list</th>\n",
              "      <th>lemmatized_text</th>\n",
              "      <th>neg</th>\n",
              "      <th>neu</th>\n",
              "      <th>pos</th>\n",
              "      <th>compound</th>\n",
              "      <th>punctuation_count</th>\n",
              "      <th>cap_count</th>\n",
              "      <th>ner_count</th>\n",
              "      <th>digit_count</th>\n",
              "    </tr>\n",
              "  </thead>\n",
              "  <tbody>\n",
              "    <tr>\n",
              "      <th>0</th>\n",
              "      <td>sheraton_14</td>\n",
              "      <td>1</td>\n",
              "      <td>pos</td>\n",
              "      <td>The sheraton was a wonderful hotel! When me an...</td>\n",
              "      <td>7</td>\n",
              "      <td>Truthful</td>\n",
              "      <td>385</td>\n",
              "      <td>6</td>\n",
              "      <td>77.23</td>\n",
              "      <td>41</td>\n",
              "      <td>...</td>\n",
              "      <td>['sheraton', 'wonderful', 'hotel', '!', 'mom',...</td>\n",
              "      <td>sheraton wonderful hotel ! mom flew really tir...</td>\n",
              "      <td>0.096</td>\n",
              "      <td>0.735</td>\n",
              "      <td>0.169</td>\n",
              "      <td>0.8217</td>\n",
              "      <td>7</td>\n",
              "      <td>7</td>\n",
              "      <td>1</td>\n",
              "      <td>0</td>\n",
              "    </tr>\n",
              "    <tr>\n",
              "      <th>1</th>\n",
              "      <td>talbott_13</td>\n",
              "      <td>0</td>\n",
              "      <td>pos</td>\n",
              "      <td>My husband and I decided to plan a romantic ge...</td>\n",
              "      <td>7</td>\n",
              "      <td>Deceptive</td>\n",
              "      <td>655</td>\n",
              "      <td>8</td>\n",
              "      <td>71.75</td>\n",
              "      <td>63</td>\n",
              "      <td>...</td>\n",
              "      <td>['husband', 'decided', 'plan', 'romantic', 'ge...</td>\n",
              "      <td>husband decided plan romantic get-away one yea...</td>\n",
              "      <td>0.000</td>\n",
              "      <td>0.844</td>\n",
              "      <td>0.156</td>\n",
              "      <td>0.9565</td>\n",
              "      <td>11</td>\n",
              "      <td>18</td>\n",
              "      <td>5</td>\n",
              "      <td>0</td>\n",
              "    </tr>\n",
              "    <tr>\n",
              "      <th>2</th>\n",
              "      <td>sheraton_2</td>\n",
              "      <td>0</td>\n",
              "      <td>neg</td>\n",
              "      <td>The Sheraton Chicago Hotel and Towers is not t...</td>\n",
              "      <td>10</td>\n",
              "      <td>Deceptive</td>\n",
              "      <td>874</td>\n",
              "      <td>11</td>\n",
              "      <td>64.71</td>\n",
              "      <td>87</td>\n",
              "      <td>...</td>\n",
              "      <td>['Sheraton', 'Chicago', 'Hotel', 'Towers', 'ho...</td>\n",
              "      <td>Sheraton Chicago Hotel Towers hotel person wis...</td>\n",
              "      <td>0.000</td>\n",
              "      <td>0.840</td>\n",
              "      <td>0.160</td>\n",
              "      <td>0.9694</td>\n",
              "      <td>11</td>\n",
              "      <td>14</td>\n",
              "      <td>2</td>\n",
              "      <td>0</td>\n",
              "    </tr>\n",
              "    <tr>\n",
              "      <th>3</th>\n",
              "      <td>palmer_10</td>\n",
              "      <td>1</td>\n",
              "      <td>neg</td>\n",
              "      <td>First of all, Expedia.com charged me for an ad...</td>\n",
              "      <td>11</td>\n",
              "      <td>Truthful</td>\n",
              "      <td>992</td>\n",
              "      <td>9</td>\n",
              "      <td>71.65</td>\n",
              "      <td>97</td>\n",
              "      <td>...</td>\n",
              "      <td>['First', ',', 'Expedia.com', 'charged', 'addi...</td>\n",
              "      <td>First , Expedia.com charged additional person ...</td>\n",
              "      <td>0.050</td>\n",
              "      <td>0.811</td>\n",
              "      <td>0.139</td>\n",
              "      <td>0.9760</td>\n",
              "      <td>18</td>\n",
              "      <td>18</td>\n",
              "      <td>8</td>\n",
              "      <td>2</td>\n",
              "    </tr>\n",
              "    <tr>\n",
              "      <th>4</th>\n",
              "      <td>james_17</td>\n",
              "      <td>1</td>\n",
              "      <td>pos</td>\n",
              "      <td>took a weekend trip with my wife. got a great ...</td>\n",
              "      <td>5</td>\n",
              "      <td>Truthful</td>\n",
              "      <td>290</td>\n",
              "      <td>6</td>\n",
              "      <td>86.30</td>\n",
              "      <td>35</td>\n",
              "      <td>...</td>\n",
              "      <td>['took', 'weekend', 'trip', 'wife', '.', 'got'...</td>\n",
              "      <td>took weekend trip wife . got great rate valet ...</td>\n",
              "      <td>0.080</td>\n",
              "      <td>0.728</td>\n",
              "      <td>0.191</td>\n",
              "      <td>0.6757</td>\n",
              "      <td>9</td>\n",
              "      <td>0</td>\n",
              "      <td>2</td>\n",
              "      <td>0</td>\n",
              "    </tr>\n",
              "  </tbody>\n",
              "</table>\n",
              "<p>5 rows × 26 columns</p>\n",
              "</div>\n",
              "    <div class=\"colab-df-buttons\">\n",
              "\n",
              "  <div class=\"colab-df-container\">\n",
              "    <button class=\"colab-df-convert\" onclick=\"convertToInteractive('df-7eb44c16-360f-4732-a919-a15a08b5f1de')\"\n",
              "            title=\"Convert this dataframe to an interactive table.\"\n",
              "            style=\"display:none;\">\n",
              "\n",
              "  <svg xmlns=\"http://www.w3.org/2000/svg\" height=\"24px\" viewBox=\"0 -960 960 960\">\n",
              "    <path d=\"M120-120v-720h720v720H120Zm60-500h600v-160H180v160Zm220 220h160v-160H400v160Zm0 220h160v-160H400v160ZM180-400h160v-160H180v160Zm440 0h160v-160H620v160ZM180-180h160v-160H180v160Zm440 0h160v-160H620v160Z\"/>\n",
              "  </svg>\n",
              "    </button>\n",
              "\n",
              "  <style>\n",
              "    .colab-df-container {\n",
              "      display:flex;\n",
              "      gap: 12px;\n",
              "    }\n",
              "\n",
              "    .colab-df-convert {\n",
              "      background-color: #E8F0FE;\n",
              "      border: none;\n",
              "      border-radius: 50%;\n",
              "      cursor: pointer;\n",
              "      display: none;\n",
              "      fill: #1967D2;\n",
              "      height: 32px;\n",
              "      padding: 0 0 0 0;\n",
              "      width: 32px;\n",
              "    }\n",
              "\n",
              "    .colab-df-convert:hover {\n",
              "      background-color: #E2EBFA;\n",
              "      box-shadow: 0px 1px 2px rgba(60, 64, 67, 0.3), 0px 1px 3px 1px rgba(60, 64, 67, 0.15);\n",
              "      fill: #174EA6;\n",
              "    }\n",
              "\n",
              "    .colab-df-buttons div {\n",
              "      margin-bottom: 4px;\n",
              "    }\n",
              "\n",
              "    [theme=dark] .colab-df-convert {\n",
              "      background-color: #3B4455;\n",
              "      fill: #D2E3FC;\n",
              "    }\n",
              "\n",
              "    [theme=dark] .colab-df-convert:hover {\n",
              "      background-color: #434B5C;\n",
              "      box-shadow: 0px 1px 3px 1px rgba(0, 0, 0, 0.15);\n",
              "      filter: drop-shadow(0px 1px 2px rgba(0, 0, 0, 0.3));\n",
              "      fill: #FFFFFF;\n",
              "    }\n",
              "  </style>\n",
              "\n",
              "    <script>\n",
              "      const buttonEl =\n",
              "        document.querySelector('#df-7eb44c16-360f-4732-a919-a15a08b5f1de button.colab-df-convert');\n",
              "      buttonEl.style.display =\n",
              "        google.colab.kernel.accessAllowed ? 'block' : 'none';\n",
              "\n",
              "      async function convertToInteractive(key) {\n",
              "        const element = document.querySelector('#df-7eb44c16-360f-4732-a919-a15a08b5f1de');\n",
              "        const dataTable =\n",
              "          await google.colab.kernel.invokeFunction('convertToInteractive',\n",
              "                                                    [key], {});\n",
              "        if (!dataTable) return;\n",
              "\n",
              "        const docLinkHtml = 'Like what you see? Visit the ' +\n",
              "          '<a target=\"_blank\" href=https://colab.research.google.com/notebooks/data_table.ipynb>data table notebook</a>'\n",
              "          + ' to learn more about interactive tables.';\n",
              "        element.innerHTML = '';\n",
              "        dataTable['output_type'] = 'display_data';\n",
              "        await google.colab.output.renderOutput(dataTable, element);\n",
              "        const docLink = document.createElement('div');\n",
              "        docLink.innerHTML = docLinkHtml;\n",
              "        element.appendChild(docLink);\n",
              "      }\n",
              "    </script>\n",
              "  </div>\n",
              "\n",
              "\n",
              "<div id=\"df-5b27e911-4b58-4e24-a0b1-097de3a67034\">\n",
              "  <button class=\"colab-df-quickchart\" onclick=\"quickchart('df-5b27e911-4b58-4e24-a0b1-097de3a67034')\"\n",
              "            title=\"Suggest charts\"\n",
              "            style=\"display:none;\">\n",
              "\n",
              "<svg xmlns=\"http://www.w3.org/2000/svg\" height=\"24px\"viewBox=\"0 0 24 24\"\n",
              "     width=\"24px\">\n",
              "    <g>\n",
              "        <path d=\"M19 3H5c-1.1 0-2 .9-2 2v14c0 1.1.9 2 2 2h14c1.1 0 2-.9 2-2V5c0-1.1-.9-2-2-2zM9 17H7v-7h2v7zm4 0h-2V7h2v10zm4 0h-2v-4h2v4z\"/>\n",
              "    </g>\n",
              "</svg>\n",
              "  </button>\n",
              "\n",
              "<style>\n",
              "  .colab-df-quickchart {\n",
              "      --bg-color: #E8F0FE;\n",
              "      --fill-color: #1967D2;\n",
              "      --hover-bg-color: #E2EBFA;\n",
              "      --hover-fill-color: #174EA6;\n",
              "      --disabled-fill-color: #AAA;\n",
              "      --disabled-bg-color: #DDD;\n",
              "  }\n",
              "\n",
              "  [theme=dark] .colab-df-quickchart {\n",
              "      --bg-color: #3B4455;\n",
              "      --fill-color: #D2E3FC;\n",
              "      --hover-bg-color: #434B5C;\n",
              "      --hover-fill-color: #FFFFFF;\n",
              "      --disabled-bg-color: #3B4455;\n",
              "      --disabled-fill-color: #666;\n",
              "  }\n",
              "\n",
              "  .colab-df-quickchart {\n",
              "    background-color: var(--bg-color);\n",
              "    border: none;\n",
              "    border-radius: 50%;\n",
              "    cursor: pointer;\n",
              "    display: none;\n",
              "    fill: var(--fill-color);\n",
              "    height: 32px;\n",
              "    padding: 0;\n",
              "    width: 32px;\n",
              "  }\n",
              "\n",
              "  .colab-df-quickchart:hover {\n",
              "    background-color: var(--hover-bg-color);\n",
              "    box-shadow: 0 1px 2px rgba(60, 64, 67, 0.3), 0 1px 3px 1px rgba(60, 64, 67, 0.15);\n",
              "    fill: var(--button-hover-fill-color);\n",
              "  }\n",
              "\n",
              "  .colab-df-quickchart-complete:disabled,\n",
              "  .colab-df-quickchart-complete:disabled:hover {\n",
              "    background-color: var(--disabled-bg-color);\n",
              "    fill: var(--disabled-fill-color);\n",
              "    box-shadow: none;\n",
              "  }\n",
              "\n",
              "  .colab-df-spinner {\n",
              "    border: 2px solid var(--fill-color);\n",
              "    border-color: transparent;\n",
              "    border-bottom-color: var(--fill-color);\n",
              "    animation:\n",
              "      spin 1s steps(1) infinite;\n",
              "  }\n",
              "\n",
              "  @keyframes spin {\n",
              "    0% {\n",
              "      border-color: transparent;\n",
              "      border-bottom-color: var(--fill-color);\n",
              "      border-left-color: var(--fill-color);\n",
              "    }\n",
              "    20% {\n",
              "      border-color: transparent;\n",
              "      border-left-color: var(--fill-color);\n",
              "      border-top-color: var(--fill-color);\n",
              "    }\n",
              "    30% {\n",
              "      border-color: transparent;\n",
              "      border-left-color: var(--fill-color);\n",
              "      border-top-color: var(--fill-color);\n",
              "      border-right-color: var(--fill-color);\n",
              "    }\n",
              "    40% {\n",
              "      border-color: transparent;\n",
              "      border-right-color: var(--fill-color);\n",
              "      border-top-color: var(--fill-color);\n",
              "    }\n",
              "    60% {\n",
              "      border-color: transparent;\n",
              "      border-right-color: var(--fill-color);\n",
              "    }\n",
              "    80% {\n",
              "      border-color: transparent;\n",
              "      border-right-color: var(--fill-color);\n",
              "      border-bottom-color: var(--fill-color);\n",
              "    }\n",
              "    90% {\n",
              "      border-color: transparent;\n",
              "      border-bottom-color: var(--fill-color);\n",
              "    }\n",
              "  }\n",
              "</style>\n",
              "\n",
              "  <script>\n",
              "    async function quickchart(key) {\n",
              "      const quickchartButtonEl =\n",
              "        document.querySelector('#' + key + ' button');\n",
              "      quickchartButtonEl.disabled = true;  // To prevent multiple clicks.\n",
              "      quickchartButtonEl.classList.add('colab-df-spinner');\n",
              "      try {\n",
              "        const charts = await google.colab.kernel.invokeFunction(\n",
              "            'suggestCharts', [key], {});\n",
              "      } catch (error) {\n",
              "        console.error('Error during call to suggestCharts:', error);\n",
              "      }\n",
              "      quickchartButtonEl.classList.remove('colab-df-spinner');\n",
              "      quickchartButtonEl.classList.add('colab-df-quickchart-complete');\n",
              "    }\n",
              "    (() => {\n",
              "      let quickchartButtonEl =\n",
              "        document.querySelector('#df-5b27e911-4b58-4e24-a0b1-097de3a67034 button');\n",
              "      quickchartButtonEl.style.display =\n",
              "        google.colab.kernel.accessAllowed ? 'block' : 'none';\n",
              "    })();\n",
              "  </script>\n",
              "</div>\n",
              "    </div>\n",
              "  </div>\n"
            ]
          },
          "metadata": {},
          "execution_count": 6
        }
      ]
    },
    {
      "cell_type": "code",
      "source": [
        "train_df_70, test_df_30 = train_test_split(data, test_size=0.3, random_state=13, shuffle = True, stratify=data[\"label\"])\n",
        "print(train_df_70.columns)\n",
        "\n",
        "#feature_columns = [col for col in train_df_70.columns if col not in ('ID', 'label', 'label_str', \"filtered_text_list\", \"filtered_text\", \"tokenized_text\", \"pos_neg\", \"review_text\", \"content_function_pos_counts\", \"pos_counts\",\n",
        "#                                                                     \"lemmatized_text\", 'neg', 'neu', 'pos', \"function_word_count\", \"filtered_text_joined\",\n",
        "#                                                                     \"content_word_count\")]\n",
        "\n",
        "feature_columns = [col for col in train_df_70.columns if col not in ('ID', 'label', 'label_str', \"filtered_text_list\", \"filtered_text\", \"tokenized_text\", \"pos_neg\", \"review_text\", \"content_function_pos_counts\", \"pos_counts\",\n",
        "                                                         \"lemmatized_text\", 'neg', 'neu', 'pos',  \"filtered_text_joined\",\n",
        "                                                         #\"content_word_count\", \"function_word_count\", \"cap_count\"\n",
        "                                                        \"noun_count\", \"verb_count\", \"num_sentences\", \"function_word_count\",\"adjective_count\", \"text_length\")]\n",
        "\n",
        "\n",
        "# Extracting the target variable 'label'\n",
        "y_train = train_df_70['label']\n",
        "y_test = test_df_30['label']\n",
        "X_train = train_df_70[feature_columns]\n",
        "X_test = test_df_30[feature_columns]\n",
        "print(X_train.columns)"
      ],
      "metadata": {
        "id": "Bq_IFrz5FTOd",
        "colab": {
          "base_uri": "https://localhost:8080/"
        },
        "outputId": "b2d51f5e-39fc-43dc-be78-df464e96d7a9"
      },
      "execution_count": 9,
      "outputs": [
        {
          "output_type": "stream",
          "name": "stdout",
          "text": [
            "Index(['ID', 'label', 'pos_neg', 'review_text', 'sentences', 'label_str',\n",
            "       'text_length', 'num_sentences', 'flesch_readability_score',\n",
            "       'content_word_count', 'function_word_count', 'verb_count', 'noun_count',\n",
            "       'adjective_count', 'tokenized_text', 'filtered_text',\n",
            "       'filtered_text_list', 'lemmatized_text', 'neg', 'neu', 'pos',\n",
            "       'compound', 'punctuation_count', 'cap_count', 'ner_count',\n",
            "       'digit_count'],\n",
            "      dtype='object')\n",
            "Index(['sentences', 'flesch_readability_score', 'content_word_count',\n",
            "       'compound', 'punctuation_count', 'cap_count', 'ner_count',\n",
            "       'digit_count'],\n",
            "      dtype='object')\n"
          ]
        }
      ]
    },
    {
      "cell_type": "code",
      "source": [
        "print(X_train.shape)\n",
        "print(X_test.shape)"
      ],
      "metadata": {
        "colab": {
          "base_uri": "https://localhost:8080/"
        },
        "id": "t9UAzh_2HaRK",
        "outputId": "5cdff95f-09c9-478c-fcd1-ec0f26965d26"
      },
      "execution_count": 10,
      "outputs": [
        {
          "output_type": "stream",
          "name": "stdout",
          "text": [
            "(1120, 8)\n",
            "(480, 8)\n"
          ]
        }
      ]
    },
    {
      "cell_type": "markdown",
      "source": [
        "# Training a Baseline model: GBC with all features"
      ],
      "metadata": {
        "id": "-jvTJYolOaBT"
      }
    },
    {
      "cell_type": "code",
      "source": [
        "gbc = GradientBoostingClassifier(max_depth= 5, random_state = 13)\n",
        "\n",
        "# Train the model\n",
        "gbc.fit(X_train, y_train)\n",
        "\n",
        "# Make predictions\n",
        "pred = gbc.predict(X_test)\n",
        "\n",
        "# Calculate the F1 score\n",
        "f1_score_all = round(f1_score(y_test,pred),3)\n",
        "\n",
        "print(f1_score_all)"
      ],
      "metadata": {
        "colab": {
          "base_uri": "https://localhost:8080/"
        },
        "id": "NFNcN61NJt3h",
        "outputId": "28269714-1d2f-4d50-b13e-aee4fdb9b56e"
      },
      "execution_count": 11,
      "outputs": [
        {
          "output_type": "stream",
          "name": "stdout",
          "text": [
            "0.672\n"
          ]
        }
      ]
    },
    {
      "cell_type": "markdown",
      "source": [
        "# Training a second Baseline model: LR with all features"
      ],
      "metadata": {
        "id": "C703sP6RP86u"
      }
    },
    {
      "cell_type": "code",
      "source": [
        "# Create the classifier\n",
        "lr = LogisticRegression(random_state=13)\n",
        "\n",
        "# Train the model\n",
        "lr.fit(X_train, y_train)\n",
        "\n",
        "# Make predictions\n",
        "pred = lr.predict(X_test)\n",
        "\n",
        "# Calculate the F1 score\n",
        "f1_score_all = round(f1_score(y_test, pred), 3)\n",
        "\n",
        "print(f1_score_all)"
      ],
      "metadata": {
        "colab": {
          "base_uri": "https://localhost:8080/"
        },
        "id": "sWxPFep-cgut",
        "outputId": "f7cfc49b-c842-4020-bb19-50209055d05a"
      },
      "execution_count": 12,
      "outputs": [
        {
          "output_type": "stream",
          "name": "stdout",
          "text": [
            "0.686\n"
          ]
        },
        {
          "output_type": "stream",
          "name": "stderr",
          "text": [
            "/usr/local/lib/python3.10/dist-packages/sklearn/linear_model/_logistic.py:458: ConvergenceWarning: lbfgs failed to converge (status=1):\n",
            "STOP: TOTAL NO. of ITERATIONS REACHED LIMIT.\n",
            "\n",
            "Increase the number of iterations (max_iter) or scale the data as shown in:\n",
            "    https://scikit-learn.org/stable/modules/preprocessing.html\n",
            "Please also refer to the documentation for alternative solver options:\n",
            "    https://scikit-learn.org/stable/modules/linear_model.html#logistic-regression\n",
            "  n_iter_i = _check_optimize_result(\n"
          ]
        }
      ]
    },
    {
      "cell_type": "markdown",
      "source": [
        "## Variance threshold - Removing features with low variance"
      ],
      "metadata": {
        "id": "G5QdaeMIzkf7"
      }
    },
    {
      "cell_type": "code",
      "source": [
        "X_train_v1, X_test_v1, y_train_v1, y_test_v1 = X_train.copy(), X_test.copy(), y_train.copy(), y_test.copy()"
      ],
      "metadata": {
        "id": "5ybWDkMd2IBD"
      },
      "execution_count": 13,
      "outputs": []
    },
    {
      "cell_type": "code",
      "source": [
        "X_train_v1.var(axis = 0)"
      ],
      "metadata": {
        "id": "IDiYO0g5K3mY",
        "colab": {
          "base_uri": "https://localhost:8080/"
        },
        "outputId": "f849406d-fd19-4e81-969a-95d0689836a8"
      },
      "execution_count": 14,
      "outputs": [
        {
          "output_type": "execute_result",
          "data": {
            "text/plain": [
              "sentences                     29.214541\n",
              "flesch_readability_score      90.869029\n",
              "content_word_count          2203.557959\n",
              "compound                       0.516150\n",
              "punctuation_count            173.225864\n",
              "cap_count                    178.079021\n",
              "ner_count                     18.115409\n",
              "digit_count                   16.464840\n",
              "dtype: float64"
            ]
          },
          "metadata": {},
          "execution_count": 14
        }
      ]
    },
    {
      "cell_type": "code",
      "source": [
        "#scaling to make the features comparable\n",
        "scaler = MinMaxScaler()\n",
        "scaled_X_train_v1 = scaler.fit_transform(X_train_v1)"
      ],
      "metadata": {
        "id": "Ukxq96zMzrdJ"
      },
      "execution_count": 15,
      "outputs": []
    },
    {
      "cell_type": "code",
      "source": [
        "#plotting the variance of the features\n",
        "fig, ax = plt.subplots()\n",
        "\n",
        "x = X_train_v1.columns\n",
        "y = scaled_X_train_v1.var(axis = 0)\n",
        "\n",
        "ax.bar(x,y,width=0.4)\n",
        "ax.set_xlabel(\"Features\")\n",
        "ax.set_ylabel(\"Variance\")\n",
        "ax.set_ylim(0, 0.15)\n",
        "\n",
        "for index, value in enumerate(y):\n",
        "  plt.text(x=index, y = value+ 0.001, s = str(round(value,3)), ha = \"center\")\n",
        "\n",
        "fig.autofmt_xdate()\n",
        "plt.tight_layout()"
      ],
      "metadata": {
        "colab": {
          "base_uri": "https://localhost:8080/",
          "height": 486
        },
        "id": "WjBsMXNP0JFP",
        "outputId": "835a986d-865e-443b-8920-0232f725e404"
      },
      "execution_count": 16,
      "outputs": [
        {
          "output_type": "display_data",
          "data": {
            "text/plain": [
              "<Figure size 640x480 with 1 Axes>"
            ],
            "image/png": "[encoded data removed]"
          },
          "metadata": {}
        }
      ]
    },
    {
      "cell_type": "code",
      "source": [
        "# Removing the feature with the lowest variance and measuring the performance\n",
        "sel_X_train_v1 = X_train.drop([\"cap_count\"], axis = 1)\n",
        "sel_X_test_v1 = X_test.drop([\"cap_count\"], axis = 1)\n",
        "\n",
        "gbc.fit(sel_X_train_v1, y_train_v1)\n",
        "var_preds = gbc.predict(sel_X_test_v1)\n",
        "\n",
        "f1_score_var= round(f1_score(y_test_v1,var_preds),3)\n",
        "\n",
        "\n",
        "print(f1_score_var)"
      ],
      "metadata": {
        "colab": {
          "base_uri": "https://localhost:8080/"
        },
        "id": "E_hRIxcF0xEZ",
        "outputId": "55a723ab-6992-47cc-b8aa-28c1447f16bd"
      },
      "execution_count": 17,
      "outputs": [
        {
          "output_type": "stream",
          "name": "stdout",
          "text": [
            "0.653\n"
          ]
        }
      ]
    },
    {
      "cell_type": "markdown",
      "source": [
        "# Mutual information - k-best features\n",
        "calculate the most important feature and select the top 3 or 5 features"
      ],
      "metadata": {
        "id": "TkyG4AUa6vAZ"
      }
    },
    {
      "cell_type": "code",
      "source": [
        "X_train_v2, X_test_v2, y_train_v2, y_test_v2 = X_train.copy(), X_test.copy(), y_train.copy(), y_test.copy()"
      ],
      "metadata": {
        "id": "M1E7qvEt25t9"
      },
      "execution_count": 18,
      "outputs": []
    },
    {
      "cell_type": "code",
      "source": [
        "f1_score_list = []\n",
        "\n",
        "for k in range(1, 9):\n",
        "    # Increase max_iter for LogisticRegression\n",
        "    lr = LogisticRegression(solver='lbfgs', max_iter=1000)  # Adjust max_iter as needed\n",
        "\n",
        "    selector = SelectKBest(mutual_info_classif, k=k)\n",
        "    selector.fit(X_train_v2, y_train_v2)\n",
        "\n",
        "    sel_X_train_v2 = selector.transform(X_train_v2)\n",
        "    sel_X_test_v2 = selector.transform(X_test_v2)\n",
        "\n",
        "    lr.fit(sel_X_train_v2, y_train_v2)\n",
        "    kbest_preds = lr.predict(sel_X_test_v2)\n",
        "\n",
        "    f1_score_kbest = round(f1_score(y_test_v2, kbest_preds), 3)\n",
        "    f1_score_list.append(f1_score_kbest)\n"
      ],
      "metadata": {
        "id": "0SCEFFBtGyWl"
      },
      "execution_count": 19,
      "outputs": []
    },
    {
      "cell_type": "code",
      "source": [
        "fig, ax = plt.subplots()\n",
        "\n",
        "x = np.arange(1, 9)\n",
        "y = f1_score_list\n",
        "\n",
        "ax.bar(x, y, width=0.2)\n",
        "ax.set_xlabel('Number of features selected using mutual information')\n",
        "ax.set_ylabel('F1-Score')\n",
        "ax.set_ylim(0, 1.2)\n",
        "ax.set_xticks(np.arange(1, 9))\n",
        "ax.set_xticklabels(np.arange(1, 9), fontsize=12)\n",
        "\n",
        "for i, v in enumerate(y):\n",
        "    plt.text(x=i+1, y=v+0.05, s=str(v), ha='center')\n",
        "\n",
        "plt.tight_layout()"
      ],
      "metadata": {
        "colab": {
          "base_uri": "https://localhost:8080/",
          "height": 487
        },
        "id": "yexaphJr8prX",
        "outputId": "ccf5b978-e8b5-4b1d-b155-d862095a18f2"
      },
      "execution_count": 20,
      "outputs": [
        {
          "output_type": "display_data",
          "data": {
            "text/plain": [
              "<Figure size 640x480 with 1 Axes>"
            ],
            "image/png": "[encoded data removed]"
          },
          "metadata": {}
        }
      ]
    },
    {
      "cell_type": "code",
      "source": [
        "selector = SelectKBest(mutual_info_classif, k=5)\n",
        "selector.fit(X_train_v2, y_train_v2)\n",
        "\n",
        "selected_feature_mask = selector.get_support()\n",
        "\n",
        "selected_features = X_train_v2.columns[selected_feature_mask]\n",
        "\n",
        "selected_features"
      ],
      "metadata": {
        "colab": {
          "base_uri": "https://localhost:8080/"
        },
        "id": "WZ9Fp1ay9JIV",
        "outputId": "54100f68-ca8f-4a61-fb86-b80954f77b77"
      },
      "execution_count": null,
      "outputs": [
        {
          "output_type": "execute_result",
          "data": {
            "text/plain": [
              "Index(['compound', 'punctuation_count', 'cap_count', 'ner_count',\n",
              "       'digit_count'],\n",
              "      dtype='object')"
            ]
          },
          "metadata": {},
          "execution_count": 113
        }
      ]
    },
    {
      "cell_type": "markdown",
      "source": [
        "## Recursive feature elimination - wrapper method\n",
        "- calculates the feature importance\n",
        "- must use a model that has a way of calculating feature importance (tree like)"
      ],
      "metadata": {
        "id": "EaywTk8mHw5U"
      }
    },
    {
      "cell_type": "code",
      "source": [
        "X_train_v3, X_test_v3, y_train_v3, y_test_v3 = X_train.copy(), X_test.copy(), y_train.copy(), y_test.copy()"
      ],
      "metadata": {
        "id": "POeQqPnWHzZp"
      },
      "execution_count": 26,
      "outputs": []
    },
    {
      "cell_type": "code",
      "source": [
        "rfe_f1_score_list = []\n",
        "\n",
        "for k in range(1, 9):\n",
        "    RFE_selector = RFE(estimator=gbc, n_features_to_select=k, step=1)\n",
        "    RFE_selector.fit(X_train_v3, y_train_v3)\n",
        "\n",
        "    sel_X_train_v3 = RFE_selector.transform(X_train_v3)\n",
        "    sel_X_test_v3 = RFE_selector.transform(X_test_v3)\n",
        "\n",
        "    gbc.fit(sel_X_train_v3, y_train_v3)\n",
        "    RFE_preds = gbc.predict(sel_X_test_v3)\n",
        "\n",
        "    f1_score_rfe = round(f1_score(y_test_v3, RFE_preds), 3)\n",
        "\n",
        "    rfe_f1_score_list.append(f1_score_rfe)"
      ],
      "metadata": {
        "id": "H9xtXY-nSXr_"
      },
      "execution_count": 29,
      "outputs": []
    },
    {
      "cell_type": "code",
      "source": [
        "fig, ax = plt.subplots()\n",
        "\n",
        "x = np.arange(1, 9)\n",
        "y = rfe_f1_score_list\n",
        "\n",
        "ax.bar(x, y, width=0.2)\n",
        "ax.set_xlabel('Number of features selected using RFE')\n",
        "ax.set_ylabel('F1-Score (weighted)')\n",
        "ax.set_ylim(0, 1.2)\n",
        "ax.set_xticks(np.arange(1, 9))\n",
        "ax.set_xticklabels(np.arange(1, 9), fontsize=12)\n",
        "\n",
        "for i, v in enumerate(y):\n",
        "    plt.text(x=i+1, y=v+0.05, s=str(v), ha='center')\n",
        "\n",
        "plt.tight_layout()"
      ],
      "metadata": {
        "colab": {
          "base_uri": "https://localhost:8080/",
          "height": 487
        },
        "id": "Mk7YzfjSSb0k",
        "outputId": "0d81ae7c-2de6-4ce0-ba78-98b26e11f847"
      },
      "execution_count": 30,
      "outputs": [
        {
          "output_type": "display_data",
          "data": {
            "text/plain": [
              "<Figure size 640x480 with 1 Axes>"
            ],
            "image/png": "[encoded data removed]"
          },
          "metadata": {}
        }
      ]
    },
    {
      "cell_type": "code",
      "source": [
        "RFE_selector = RFE(estimator=gbc, n_features_to_select=8, step=10)\n",
        "RFE_selector.fit(X_train_v3, y_train_v3)\n",
        "\n",
        "selected_features_mask = RFE_selector.get_support()\n",
        "\n",
        "selected_features = X_train_v3.columns[selected_features_mask]\n",
        "selected_features"
      ],
      "metadata": {
        "colab": {
          "base_uri": "https://localhost:8080/"
        },
        "id": "DX3TEiHgTdVP",
        "outputId": "d3b66814-3e5f-4e6e-d1b7-82f8f3ea8fb4"
      },
      "execution_count": 31,
      "outputs": [
        {
          "output_type": "execute_result",
          "data": {
            "text/plain": [
              "Index(['sentences', 'flesch_readability_score', 'content_word_count',\n",
              "       'compound', 'punctuation_count', 'cap_count', 'ner_count',\n",
              "       'digit_count'],\n",
              "      dtype='object')"
            ]
          },
          "metadata": {},
          "execution_count": 31
        }
      ]
    },
    {
      "cell_type": "markdown",
      "source": [
        "# Boruta"
      ],
      "metadata": {
        "id": "NohmoZaBHcAX"
      }
    },
    {
      "cell_type": "code",
      "source": [
        "X_train_v4, X_test_v4, y_train_v4, y_test_v4 = X_train.copy(), X_test.copy(), y_train.copy(), y_test.copy()"
      ],
      "metadata": {
        "id": "ZyrHCn4rUTi6"
      },
      "execution_count": 22,
      "outputs": []
    },
    {
      "cell_type": "code",
      "source": [
        "!pip install boruta -q\n",
        "\n",
        "from boruta import BorutaPy\n",
        "\n",
        "boruta_selector = BorutaPy(gbc, random_state=42)\n",
        "\n",
        "boruta_selector.fit(X_train_v4.values, y_train_v4.values.ravel())\n",
        "\n",
        "sel_X_train_v4 = boruta_selector.transform(X_train_v4.values)\n",
        "sel_X_test_v4 = boruta_selector.transform(X_test_v4.values)\n",
        "\n",
        "gbc.fit(sel_X_train_v4, y_train_v4)\n",
        "\n",
        "boruta_preds = gbc.predict(sel_X_test_v4)\n",
        "\n",
        "boruta_f1_score = round(f1_score(y_test_v4, boruta_preds, average='weighted'), 3)"
      ],
      "metadata": {
        "id": "mNmLTuMTUXRw"
      },
      "execution_count": 23,
      "outputs": []
    },
    {
      "cell_type": "code",
      "source": [
        "selected_features_mask = boruta_selector.support_\n",
        "\n",
        "selected_features = X_train_v4.columns[selected_features_mask]\n",
        "selected_features"
      ],
      "metadata": {
        "colab": {
          "base_uri": "https://localhost:8080/"
        },
        "id": "8uiPiJ25UafY",
        "outputId": "51eeea03-1b5e-4811-af02-0e0ea2b52178"
      },
      "execution_count": 24,
      "outputs": [
        {
          "output_type": "execute_result",
          "data": {
            "text/plain": [
              "Index(['flesch_readability_score', 'compound', 'digit_count'], dtype='object')"
            ]
          },
          "metadata": {},
          "execution_count": 24
        }
      ]
    },
    {
      "cell_type": "code",
      "source": [
        "fig, ax = plt.subplots()\n",
        "\n",
        "x = ['All features', 'Variance threshold', \"RFE\", 'Boruta']\n",
        "y = [f1_score_all, f1_score_var, max(rfe_f1_score_list), boruta_f1_score]\n",
        "\n",
        "ax.bar(x, y, width=0.2)\n",
        "ax.set_xlabel('Feature selection method')\n",
        "ax.set_ylabel('F1-Score (weighted)')\n",
        "ax.set_ylim(0, 1.2)\n",
        "\n",
        "for i, v in enumerate(y):\n",
        "    plt.text(x=i, y=v+0.01, s=str(v), ha='center')\n",
        "\n",
        "plt.tight_layout()"
      ],
      "metadata": {
        "colab": {
          "base_uri": "https://localhost:8080/",
          "height": 487
        },
        "id": "ptGWj1PJUkLB",
        "outputId": "ef87a2c4-831b-4703-bdb4-06c826bf3748"
      },
      "execution_count": 32,
      "outputs": [
        {
          "output_type": "display_data",
          "data": {
            "text/plain": [
              "<Figure size 640x480 with 1 Axes>"
            ],
            "image/png": "[encoded data removed]"
          },
          "metadata": {}
        }
      ]
    }
  ]
}